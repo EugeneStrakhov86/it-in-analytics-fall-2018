{
 "cells": [
  {
   "cell_type": "markdown",
   "metadata": {},
   "source": [
    "В прикрепленном файле “Test” вы можете найти список доменов с объемами (avails) количества пользователей, которые приходили с соответствующих доменов. Домены могут повторяться."
   ]
  },
  {
   "cell_type": "markdown",
   "metadata": {},
   "source": [
    "**Посчитать общее количество пользователей (avails) для каждого уникального домена.**"
   ]
  },
  {
   "cell_type": "code",
   "execution_count": 1,
   "metadata": {},
   "outputs": [],
   "source": [
    "import pandas as pd\n",
    "import numpy as np"
   ]
  },
  {
   "cell_type": "code",
   "execution_count": 2,
   "metadata": {},
   "outputs": [
    {
     "data": {
      "text/html": [
       "<div>\n",
       "<style scoped>\n",
       "    .dataframe tbody tr th:only-of-type {\n",
       "        vertical-align: middle;\n",
       "    }\n",
       "\n",
       "    .dataframe tbody tr th {\n",
       "        vertical-align: top;\n",
       "    }\n",
       "\n",
       "    .dataframe thead th {\n",
       "        text-align: right;\n",
       "    }\n",
       "</style>\n",
       "<table border=\"1\" class=\"dataframe\">\n",
       "  <thead>\n",
       "    <tr style=\"text-align: right;\">\n",
       "      <th></th>\n",
       "      <th>Media</th>\n",
       "      <th>avails</th>\n",
       "    </tr>\n",
       "  </thead>\n",
       "  <tbody>\n",
       "    <tr>\n",
       "      <th>0</th>\n",
       "      <td>yahoo.com</td>\n",
       "      <td>4603</td>\n",
       "    </tr>\n",
       "    <tr>\n",
       "      <th>1</th>\n",
       "      <td>yahoo.com</td>\n",
       "      <td>881</td>\n",
       "    </tr>\n",
       "    <tr>\n",
       "      <th>2</th>\n",
       "      <td>cmt.com</td>\n",
       "      <td>862</td>\n",
       "    </tr>\n",
       "    <tr>\n",
       "      <th>3</th>\n",
       "      <td>worldofsolitaire.com</td>\n",
       "      <td>858</td>\n",
       "    </tr>\n",
       "    <tr>\n",
       "      <th>4</th>\n",
       "      <td>copykat.com</td>\n",
       "      <td>1621</td>\n",
       "    </tr>\n",
       "  </tbody>\n",
       "</table>\n",
       "</div>"
      ],
      "text/plain": [
       "                  Media  avails\n",
       "0             yahoo.com    4603\n",
       "1             yahoo.com     881\n",
       "2               cmt.com     862\n",
       "3  worldofsolitaire.com     858\n",
       "4           copykat.com    1621"
      ]
     },
     "execution_count": 2,
     "metadata": {},
     "output_type": "execute_result"
    }
   ],
   "source": [
    "data = pd.read_excel('Test.xlsx', header=0)\n",
    "data.head()"
   ]
  },
  {
   "cell_type": "code",
   "execution_count": 3,
   "metadata": {},
   "outputs": [],
   "source": [
    "domains = data.groupby('Media', as_index=False)['avails'].sum()\n",
    "domains.to_csv('domains.csv', sep=';', header=['Media', 'avails'])"
   ]
  },
  {
   "cell_type": "markdown",
   "metadata": {},
   "source": [
    "**Присвоить каждому уникальному домену случайно сгенерированную стоимость от 5.5  до 13.5 (цена может быть с шагом 0.5).**"
   ]
  },
  {
   "cell_type": "code",
   "execution_count": 4,
   "metadata": {},
   "outputs": [
    {
     "data": {
      "text/html": [
       "<div>\n",
       "<style scoped>\n",
       "    .dataframe tbody tr th:only-of-type {\n",
       "        vertical-align: middle;\n",
       "    }\n",
       "\n",
       "    .dataframe tbody tr th {\n",
       "        vertical-align: top;\n",
       "    }\n",
       "\n",
       "    .dataframe thead th {\n",
       "        text-align: right;\n",
       "    }\n",
       "</style>\n",
       "<table border=\"1\" class=\"dataframe\">\n",
       "  <thead>\n",
       "    <tr style=\"text-align: right;\">\n",
       "      <th></th>\n",
       "      <th>Media</th>\n",
       "      <th>avails</th>\n",
       "      <th>values</th>\n",
       "    </tr>\n",
       "  </thead>\n",
       "  <tbody>\n",
       "    <tr>\n",
       "      <th>0</th>\n",
       "      <td>yahoo.com</td>\n",
       "      <td>4603</td>\n",
       "      <td>12.5</td>\n",
       "    </tr>\n",
       "    <tr>\n",
       "      <th>1</th>\n",
       "      <td>yahoo.com</td>\n",
       "      <td>881</td>\n",
       "      <td>13.5</td>\n",
       "    </tr>\n",
       "    <tr>\n",
       "      <th>2</th>\n",
       "      <td>cmt.com</td>\n",
       "      <td>862</td>\n",
       "      <td>11.0</td>\n",
       "    </tr>\n",
       "    <tr>\n",
       "      <th>3</th>\n",
       "      <td>worldofsolitaire.com</td>\n",
       "      <td>858</td>\n",
       "      <td>6.5</td>\n",
       "    </tr>\n",
       "    <tr>\n",
       "      <th>4</th>\n",
       "      <td>copykat.com</td>\n",
       "      <td>1621</td>\n",
       "      <td>13.5</td>\n",
       "    </tr>\n",
       "  </tbody>\n",
       "</table>\n",
       "</div>"
      ],
      "text/plain": [
       "                  Media  avails  values\n",
       "0             yahoo.com    4603    12.5\n",
       "1             yahoo.com     881    13.5\n",
       "2               cmt.com     862    11.0\n",
       "3  worldofsolitaire.com     858     6.5\n",
       "4           copykat.com    1621    13.5"
      ]
     },
     "execution_count": 4,
     "metadata": {},
     "output_type": "execute_result"
    }
   ],
   "source": [
    "values = np.arange(5.5, 13.6, 0.5)\n",
    "data['values'] = np.array([np.random.choice(values) \n",
    "                           for i in range(data.shape[0])])\n",
    "data.head()"
   ]
  },
  {
   "cell_type": "code",
   "execution_count": 5,
   "metadata": {},
   "outputs": [
    {
     "data": {
      "text/html": [
       "<div>\n",
       "<style scoped>\n",
       "    .dataframe tbody tr th:only-of-type {\n",
       "        vertical-align: middle;\n",
       "    }\n",
       "\n",
       "    .dataframe tbody tr th {\n",
       "        vertical-align: top;\n",
       "    }\n",
       "\n",
       "    .dataframe thead th {\n",
       "        text-align: right;\n",
       "    }\n",
       "</style>\n",
       "<table border=\"1\" class=\"dataframe\">\n",
       "  <thead>\n",
       "    <tr style=\"text-align: right;\">\n",
       "      <th></th>\n",
       "      <th>Media</th>\n",
       "      <th>avails</th>\n",
       "      <th>values</th>\n",
       "      <th>cost</th>\n",
       "    </tr>\n",
       "  </thead>\n",
       "  <tbody>\n",
       "    <tr>\n",
       "      <th>0</th>\n",
       "      <td>yahoo.com</td>\n",
       "      <td>4603</td>\n",
       "      <td></td>\n",
       "      <td>7.0</td>\n",
       "    </tr>\n",
       "    <tr>\n",
       "      <th>1</th>\n",
       "      <td>yahoo.com</td>\n",
       "      <td>881</td>\n",
       "      <td></td>\n",
       "      <td>7.0</td>\n",
       "    </tr>\n",
       "    <tr>\n",
       "      <th>2</th>\n",
       "      <td>cmt.com</td>\n",
       "      <td>862</td>\n",
       "      <td></td>\n",
       "      <td>8.5</td>\n",
       "    </tr>\n",
       "    <tr>\n",
       "      <th>3</th>\n",
       "      <td>worldofsolitaire.com</td>\n",
       "      <td>858</td>\n",
       "      <td></td>\n",
       "      <td>5.5</td>\n",
       "    </tr>\n",
       "    <tr>\n",
       "      <th>4</th>\n",
       "      <td>copykat.com</td>\n",
       "      <td>1621</td>\n",
       "      <td></td>\n",
       "      <td>9.0</td>\n",
       "    </tr>\n",
       "  </tbody>\n",
       "</table>\n",
       "</div>"
      ],
      "text/plain": [
       "                  Media  avails values  cost\n",
       "0             yahoo.com    4603          7.0\n",
       "1             yahoo.com     881          7.0\n",
       "2               cmt.com     862          8.5\n",
       "3  worldofsolitaire.com     858          5.5\n",
       "4           copykat.com    1621          9.0"
      ]
     },
     "execution_count": 5,
     "metadata": {},
     "output_type": "execute_result"
    }
   ],
   "source": [
    "data['values'] = \"\" # каждая ячейка в столбце -- пустая\n",
    "dict_media = {media : np.random.choice(values) \n",
    "              for media in data['Media'].unique()}\n",
    "for i in data.index:\n",
    "    data.at[i, 'cost'] = dict_media[data.loc[i, 'Media']]\n",
    "data.head()"
   ]
  },
  {
   "cell_type": "markdown",
   "metadata": {},
   "source": [
    "**Определить какой стране пренадлежит домен по его хостинг-адресу (если у домена хостинг .com, .net, .tv, .org &mdash; сгруппировать их в Worldwide).**"
   ]
  },
  {
   "cell_type": "code",
   "execution_count": 6,
   "metadata": {},
   "outputs": [
    {
     "data": {
      "text/html": [
       "<div>\n",
       "<style scoped>\n",
       "    .dataframe tbody tr th:only-of-type {\n",
       "        vertical-align: middle;\n",
       "    }\n",
       "\n",
       "    .dataframe tbody tr th {\n",
       "        vertical-align: top;\n",
       "    }\n",
       "\n",
       "    .dataframe thead th {\n",
       "        text-align: right;\n",
       "    }\n",
       "</style>\n",
       "<table border=\"1\" class=\"dataframe\">\n",
       "  <thead>\n",
       "    <tr style=\"text-align: right;\">\n",
       "      <th></th>\n",
       "      <th>ISO code</th>\n",
       "      <th>country</th>\n",
       "    </tr>\n",
       "  </thead>\n",
       "  <tbody>\n",
       "    <tr>\n",
       "      <th>0</th>\n",
       "      <td>AM</td>\n",
       "      <td>Armenia</td>\n",
       "    </tr>\n",
       "    <tr>\n",
       "      <th>1</th>\n",
       "      <td>AZ</td>\n",
       "      <td>Azerbaijan</td>\n",
       "    </tr>\n",
       "    <tr>\n",
       "      <th>2</th>\n",
       "      <td>BY</td>\n",
       "      <td>Belarus</td>\n",
       "    </tr>\n",
       "    <tr>\n",
       "      <th>3</th>\n",
       "      <td>KZ</td>\n",
       "      <td>Kazakhstan</td>\n",
       "    </tr>\n",
       "    <tr>\n",
       "      <th>4</th>\n",
       "      <td>KG</td>\n",
       "      <td>Kyrgyzstan</td>\n",
       "    </tr>\n",
       "  </tbody>\n",
       "</table>\n",
       "</div>"
      ],
      "text/plain": [
       "  ISO code     country\n",
       "0       AM     Armenia\n",
       "1       AZ  Azerbaijan\n",
       "2       BY     Belarus\n",
       "3       KZ  Kazakhstan\n",
       "4       KG  Kyrgyzstan"
      ]
     },
     "execution_count": 6,
     "metadata": {},
     "output_type": "execute_result"
    }
   ],
   "source": [
    "countries = pd.read_excel('Additional Information.xlsx', header=0)\n",
    "countries.head()"
   ]
  },
  {
   "cell_type": "code",
   "execution_count": 8,
   "metadata": {},
   "outputs": [],
   "source": [
    "countries_dict = {}\n",
    "for i in countries.index:\n",
    "    key = countries.loc[i, 'ISO code']\n",
    "    value = countries.loc[i, 'country']\n",
    "    countries_dict[key] = value"
   ]
  },
  {
   "cell_type": "markdown",
   "metadata": {},
   "source": [
    "Более эффективный способ: использование dict() и zip()"
   ]
  },
  {
   "cell_type": "code",
   "execution_count": 9,
   "metadata": {},
   "outputs": [],
   "source": [
    "countries_dict = dict(zip(countries['ISO code'], countries['country']))"
   ]
  },
  {
   "cell_type": "code",
   "execution_count": 10,
   "metadata": {},
   "outputs": [
    {
     "data": {
      "text/html": [
       "<div>\n",
       "<style scoped>\n",
       "    .dataframe tbody tr th:only-of-type {\n",
       "        vertical-align: middle;\n",
       "    }\n",
       "\n",
       "    .dataframe tbody tr th {\n",
       "        vertical-align: top;\n",
       "    }\n",
       "\n",
       "    .dataframe thead th {\n",
       "        text-align: right;\n",
       "    }\n",
       "</style>\n",
       "<table border=\"1\" class=\"dataframe\">\n",
       "  <thead>\n",
       "    <tr style=\"text-align: right;\">\n",
       "      <th></th>\n",
       "      <th>Media</th>\n",
       "      <th>avails</th>\n",
       "      <th>values</th>\n",
       "      <th>cost</th>\n",
       "      <th>country</th>\n",
       "    </tr>\n",
       "  </thead>\n",
       "  <tbody>\n",
       "    <tr>\n",
       "      <th>0</th>\n",
       "      <td>yahoo.com</td>\n",
       "      <td>4603</td>\n",
       "      <td></td>\n",
       "      <td>7.0</td>\n",
       "      <td></td>\n",
       "    </tr>\n",
       "    <tr>\n",
       "      <th>1</th>\n",
       "      <td>yahoo.com</td>\n",
       "      <td>881</td>\n",
       "      <td></td>\n",
       "      <td>7.0</td>\n",
       "      <td></td>\n",
       "    </tr>\n",
       "    <tr>\n",
       "      <th>2</th>\n",
       "      <td>cmt.com</td>\n",
       "      <td>862</td>\n",
       "      <td></td>\n",
       "      <td>8.5</td>\n",
       "      <td></td>\n",
       "    </tr>\n",
       "    <tr>\n",
       "      <th>3</th>\n",
       "      <td>worldofsolitaire.com</td>\n",
       "      <td>858</td>\n",
       "      <td></td>\n",
       "      <td>5.5</td>\n",
       "      <td></td>\n",
       "    </tr>\n",
       "    <tr>\n",
       "      <th>4</th>\n",
       "      <td>copykat.com</td>\n",
       "      <td>1621</td>\n",
       "      <td></td>\n",
       "      <td>9.0</td>\n",
       "      <td></td>\n",
       "    </tr>\n",
       "  </tbody>\n",
       "</table>\n",
       "</div>"
      ],
      "text/plain": [
       "                  Media  avails values  cost country\n",
       "0             yahoo.com    4603          7.0        \n",
       "1             yahoo.com     881          7.0        \n",
       "2               cmt.com     862          8.5        \n",
       "3  worldofsolitaire.com     858          5.5        \n",
       "4           copykat.com    1621          9.0        "
      ]
     },
     "execution_count": 10,
     "metadata": {},
     "output_type": "execute_result"
    }
   ],
   "source": [
    "data['country'] = \"\"\n",
    "data.head()"
   ]
  },
  {
   "cell_type": "code",
   "execution_count": 11,
   "metadata": {},
   "outputs": [],
   "source": [
    "for i in range(data.shape[0]):\n",
    "    code = data.loc[i, 'Media'].split('.')[-1]\n",
    "    if code.upper() in countries_dict:\n",
    "        data.at[i, 'country'] = countries_dict[code.upper()]\n",
    "    else:\n",
    "        data.at[i, 'country'] = 'Worldwide'"
   ]
  },
  {
   "cell_type": "code",
   "execution_count": 12,
   "metadata": {},
   "outputs": [
    {
     "data": {
      "text/html": [
       "<div>\n",
       "<style scoped>\n",
       "    .dataframe tbody tr th:only-of-type {\n",
       "        vertical-align: middle;\n",
       "    }\n",
       "\n",
       "    .dataframe tbody tr th {\n",
       "        vertical-align: top;\n",
       "    }\n",
       "\n",
       "    .dataframe thead th {\n",
       "        text-align: right;\n",
       "    }\n",
       "</style>\n",
       "<table border=\"1\" class=\"dataframe\">\n",
       "  <thead>\n",
       "    <tr style=\"text-align: right;\">\n",
       "      <th></th>\n",
       "      <th>Media</th>\n",
       "      <th>avails</th>\n",
       "      <th>values</th>\n",
       "      <th>cost</th>\n",
       "      <th>country</th>\n",
       "    </tr>\n",
       "  </thead>\n",
       "  <tbody>\n",
       "    <tr>\n",
       "      <th>0</th>\n",
       "      <td>yahoo.com</td>\n",
       "      <td>4603</td>\n",
       "      <td></td>\n",
       "      <td>7.0</td>\n",
       "      <td>Worldwide</td>\n",
       "    </tr>\n",
       "    <tr>\n",
       "      <th>1</th>\n",
       "      <td>yahoo.com</td>\n",
       "      <td>881</td>\n",
       "      <td></td>\n",
       "      <td>7.0</td>\n",
       "      <td>Worldwide</td>\n",
       "    </tr>\n",
       "    <tr>\n",
       "      <th>2</th>\n",
       "      <td>cmt.com</td>\n",
       "      <td>862</td>\n",
       "      <td></td>\n",
       "      <td>8.5</td>\n",
       "      <td>Worldwide</td>\n",
       "    </tr>\n",
       "    <tr>\n",
       "      <th>3</th>\n",
       "      <td>worldofsolitaire.com</td>\n",
       "      <td>858</td>\n",
       "      <td></td>\n",
       "      <td>5.5</td>\n",
       "      <td>Worldwide</td>\n",
       "    </tr>\n",
       "    <tr>\n",
       "      <th>4</th>\n",
       "      <td>copykat.com</td>\n",
       "      <td>1621</td>\n",
       "      <td></td>\n",
       "      <td>9.0</td>\n",
       "      <td>Worldwide</td>\n",
       "    </tr>\n",
       "  </tbody>\n",
       "</table>\n",
       "</div>"
      ],
      "text/plain": [
       "                  Media  avails values  cost    country\n",
       "0             yahoo.com    4603          7.0  Worldwide\n",
       "1             yahoo.com     881          7.0  Worldwide\n",
       "2               cmt.com     862          8.5  Worldwide\n",
       "3  worldofsolitaire.com     858          5.5  Worldwide\n",
       "4           copykat.com    1621          9.0  Worldwide"
      ]
     },
     "execution_count": 12,
     "metadata": {},
     "output_type": "execute_result"
    }
   ],
   "source": [
    "data.head()"
   ]
  },
  {
   "cell_type": "markdown",
   "metadata": {},
   "source": [
    "**Выбрать топ-5 доменов по объемам по каждой стране.**"
   ]
  },
  {
   "cell_type": "code",
   "execution_count": 13,
   "metadata": {},
   "outputs": [
    {
     "name": "stdout",
     "output_type": "stream",
     "text": [
      "<class 'pandas.core.frame.DataFrame'>\n",
      "RangeIndex: 58159 entries, 0 to 58158\n",
      "Data columns (total 5 columns):\n",
      "Media      58159 non-null object\n",
      "avails     58159 non-null int64\n",
      "values     58159 non-null object\n",
      "cost       58159 non-null float64\n",
      "country    58159 non-null object\n",
      "dtypes: float64(1), int64(1), object(3)\n",
      "memory usage: 2.2+ MB\n"
     ]
    }
   ],
   "source": [
    "data.info()"
   ]
  },
  {
   "cell_type": "code",
   "execution_count": 14,
   "metadata": {},
   "outputs": [
    {
     "data": {
      "text/plain": [
       "array(['Worldwide', 'Tuvalu', 'British Indian Ocean Territory', 'Brazil',\n",
       "       'United Kingdom', 'Colombia', 'Singapore', 'Spain', 'Canada',\n",
       "       'Netherlands', 'India', 'Poland', 'United States', 'Sweden',\n",
       "       'Australia', 'Russian Federation', 'Turkey', 'Switzerland', 'Peru',\n",
       "       'Mexico', 'France', 'Micronesia', 'Austria', 'Chile', 'Pakistan',\n",
       "       'Cocos (Keeling Islands)', 'Kenya', 'Korea (South)', 'Romania',\n",
       "       'Armenia', 'Italy', 'New Zealand', 'Trinidad and Tobago', 'Taiwan',\n",
       "       'Israel', 'Japan', 'Germany', 'Portugal', 'United Arab Emirates',\n",
       "       'Argentina', 'Thailand', 'Samoa', 'Ireland', 'Nigeria', 'Greece',\n",
       "       'Tonga', 'S. Georgia and S. Sandwich Isls.', 'Morocco', 'Bolivia',\n",
       "       'Lithuania', 'Belarus', 'Philippines', 'Belgium', 'Uruguay',\n",
       "       'Bosnia and Herzegovina', 'Virgin Islands (British)', 'Uganda',\n",
       "       'Sri Lanka', 'Finland', 'China', 'Bulgaria', 'Honduras', 'Haiti',\n",
       "       'Hong Kong', 'Croatia (Hrvatska', 'Slovak Republic',\n",
       "       'Dominican Republic', 'French Southern Territories', 'Laos',\n",
       "       'Nicaragua', 'Libya', 'Tokelau', 'Iceland', 'Bangladesh',\n",
       "       'Malaysia', 'Zaire', 'Albania', 'Montserrat', 'Panama', 'Lebanon',\n",
       "       'Ukraine', 'Guatemala', 'Puerto Rico', 'Palau', 'Moldova',\n",
       "       'Venezuela', 'Czech Republic', 'Malta', 'Jordan', 'Latvia',\n",
       "       'Egypt', 'Zimbabwe', 'Norway', 'St. Helena', 'Hungary', 'Estonia',\n",
       "       'Niue', 'Madagascar', 'Denmark', 'Reunion', 'Mauritius', 'Ghana',\n",
       "       'Ecuador', 'Cyprus', 'Cameroon', 'Cambodia',\n",
       "       'Vatican City State (Holy See)', 'Antigua and Barbuda', 'Djibouti',\n",
       "       'Indonesia', 'Liechtenstein', 'Iran', 'Costa Rica',\n",
       "       'Christmas Island', 'El Salvador', 'Slovenia', 'Tanzania',\n",
       "       'Tunisia', 'Senegal', 'Kazakhstan', 'Suriname', 'Cuba', 'Belize',\n",
       "       'Georgia', 'Mongolia', 'Luxembourg', 'Paraguay', 'Saudi Arabia',\n",
       "       'Macedonia', 'Rwanda', 'Sao Tome and Principe',\n",
       "       'Central African Republic', 'Seychelles', 'American Samoa'],\n",
       "      dtype=object)"
      ]
     },
     "execution_count": 14,
     "metadata": {},
     "output_type": "execute_result"
    }
   ],
   "source": [
    "data['country'].unique()"
   ]
  },
  {
   "cell_type": "code",
   "execution_count": 15,
   "metadata": {},
   "outputs": [
    {
     "data": {
      "text/html": [
       "<div>\n",
       "<style scoped>\n",
       "    .dataframe tbody tr th:only-of-type {\n",
       "        vertical-align: middle;\n",
       "    }\n",
       "\n",
       "    .dataframe tbody tr th {\n",
       "        vertical-align: top;\n",
       "    }\n",
       "\n",
       "    .dataframe thead th {\n",
       "        text-align: right;\n",
       "    }\n",
       "</style>\n",
       "<table border=\"1\" class=\"dataframe\">\n",
       "  <thead>\n",
       "    <tr style=\"text-align: right;\">\n",
       "      <th></th>\n",
       "      <th>Media</th>\n",
       "      <th>avails</th>\n",
       "      <th>values</th>\n",
       "      <th>cost</th>\n",
       "      <th>country</th>\n",
       "    </tr>\n",
       "  </thead>\n",
       "  <tbody>\n",
       "    <tr>\n",
       "      <th>40423</th>\n",
       "      <td>newposts.ge</td>\n",
       "      <td>1344</td>\n",
       "      <td></td>\n",
       "      <td>11.5</td>\n",
       "      <td>Georgia</td>\n",
       "    </tr>\n",
       "    <tr>\n",
       "      <th>45160</th>\n",
       "      <td>intermedia.ge</td>\n",
       "      <td>1150</td>\n",
       "      <td></td>\n",
       "      <td>11.0</td>\n",
       "      <td>Georgia</td>\n",
       "    </tr>\n",
       "    <tr>\n",
       "      <th>51445</th>\n",
       "      <td>myspace.ge</td>\n",
       "      <td>10814</td>\n",
       "      <td></td>\n",
       "      <td>12.5</td>\n",
       "      <td>Georgia</td>\n",
       "    </tr>\n",
       "  </tbody>\n",
       "</table>\n",
       "</div>"
      ],
      "text/plain": [
       "               Media  avails values  cost  country\n",
       "40423    newposts.ge    1344         11.5  Georgia\n",
       "45160  intermedia.ge    1150         11.0  Georgia\n",
       "51445     myspace.ge   10814         12.5  Georgia"
      ]
     },
     "execution_count": 15,
     "metadata": {},
     "output_type": "execute_result"
    }
   ],
   "source": [
    "data[data.country == 'Georgia']"
   ]
  },
  {
   "cell_type": "code",
   "execution_count": 16,
   "metadata": {},
   "outputs": [],
   "source": [
    "with pd.ExcelWriter('Top5.xlsx') as writer:\n",
    "    for country_name in data['country'].unique():\n",
    "        df = data[data.country == country_name].sort_values(by='avails', ascending=False).head(5)\n",
    "        df.to_excel(writer, sheet_name=country_name[:30])"
   ]
  },
  {
   "cell_type": "markdown",
   "metadata": {},
   "source": [
    "**Построить инфографику по полученным данным.**"
   ]
  },
  {
   "cell_type": "code",
   "execution_count": 17,
   "metadata": {},
   "outputs": [
    {
     "data": {
      "text/plain": [
       "odict_keys(['Worldwide', 'Tuvalu', 'British Indian Ocean Territory', 'Brazil', 'United Kingdom', 'Colombia', 'Singapore', 'Spain', 'Canada', 'Netherlands', 'India', 'Poland', 'United States', 'Sweden', 'Australia', 'Russian Federation', 'Turkey', 'Switzerland', 'Peru', 'Mexico', 'France', 'Micronesia', 'Austria', 'Chile', 'Pakistan', 'Cocos (Keeling Islands)', 'Kenya', 'Korea (South)', 'Romania', 'Armenia', 'Italy', 'New Zealand', 'Trinidad and Tobago', 'Taiwan', 'Israel', 'Japan', 'Germany', 'Portugal', 'United Arab Emirates', 'Argentina', 'Thailand', 'Samoa', 'Ireland', 'Nigeria', 'Greece', 'Tonga', 'S. Georgia and S. Sandwich Isl', 'Morocco', 'Bolivia', 'Lithuania', 'Belarus', 'Philippines', 'Belgium', 'Uruguay', 'Bosnia and Herzegovina', 'Virgin Islands (British)', 'Uganda', 'Sri Lanka', 'Finland', 'China', 'Bulgaria', 'Honduras', 'Haiti', 'Hong Kong', 'Croatia (Hrvatska', 'Slovak Republic', 'Dominican Republic', 'French Southern Territories', 'Laos', 'Nicaragua', 'Libya', 'Tokelau', 'Iceland', 'Bangladesh', 'Malaysia', 'Zaire', 'Albania', 'Montserrat', 'Panama', 'Lebanon', 'Ukraine', 'Guatemala', 'Puerto Rico', 'Palau', 'Moldova', 'Venezuela', 'Czech Republic', 'Malta', 'Jordan', 'Latvia', 'Egypt', 'Zimbabwe', 'Norway', 'St. Helena', 'Hungary', 'Estonia', 'Niue', 'Madagascar', 'Denmark', 'Reunion', 'Mauritius', 'Ghana', 'Ecuador', 'Cyprus', 'Cameroon', 'Cambodia', 'Vatican City State (Holy See)', 'Antigua and Barbuda', 'Djibouti', 'Indonesia', 'Liechtenstein', 'Iran', 'Costa Rica', 'Christmas Island', 'El Salvador', 'Slovenia', 'Tanzania', 'Tunisia', 'Senegal', 'Kazakhstan', 'Suriname', 'Cuba', 'Belize', 'Georgia', 'Mongolia', 'Luxembourg', 'Paraguay', 'Saudi Arabia', 'Macedonia', 'Rwanda', 'Sao Tome and Principe', 'Central African Republic', 'Seychelles', 'American Samoa'])"
      ]
     },
     "execution_count": 17,
     "metadata": {},
     "output_type": "execute_result"
    }
   ],
   "source": [
    "df = pd.read_excel('Top5.xlsx', sheet_name=None)\n",
    "df.keys()"
   ]
  },
  {
   "cell_type": "code",
   "execution_count": 19,
   "metadata": {},
   "outputs": [],
   "source": [
    "import matplotlib.pyplot as plt\n",
    "%matplotlib inline\n",
    "# import seaborn as sns"
   ]
  },
  {
   "cell_type": "code",
   "execution_count": 21,
   "metadata": {},
   "outputs": [
    {
     "data": {
      "text/plain": [
       "<matplotlib.axes._subplots.AxesSubplot at 0x9c22470>"
      ]
     },
     "execution_count": 21,
     "metadata": {},
     "output_type": "execute_result"
    },
    {
     "data": {
      "image/png": "[encoded data removed]",
      "text/plain": [
       "<Figure size 432x288 with 1 Axes>"
      ]
     },
     "metadata": {},
     "output_type": "display_data"
    }
   ],
   "source": [
    "country_name = np.random.choice(list(df.keys()))\n",
    "source = df[country_name].set_index('Media')\n",
    "source.head()\n",
    "source.plot(y='avails', kind='bar', title=country_name)"
   ]
  },
  {
   "cell_type": "code",
   "execution_count": 22,
   "metadata": {},
   "outputs": [
    {
     "data": {
      "text/html": [
       "<div>\n",
       "<style scoped>\n",
       "    .dataframe tbody tr th:only-of-type {\n",
       "        vertical-align: middle;\n",
       "    }\n",
       "\n",
       "    .dataframe tbody tr th {\n",
       "        vertical-align: top;\n",
       "    }\n",
       "\n",
       "    .dataframe thead th {\n",
       "        text-align: right;\n",
       "    }\n",
       "</style>\n",
       "<table border=\"1\" class=\"dataframe\">\n",
       "  <thead>\n",
       "    <tr style=\"text-align: right;\">\n",
       "      <th></th>\n",
       "      <th>Media</th>\n",
       "      <th>avails</th>\n",
       "      <th>values</th>\n",
       "      <th>cost</th>\n",
       "      <th>country</th>\n",
       "    </tr>\n",
       "  </thead>\n",
       "  <tbody>\n",
       "    <tr>\n",
       "      <th>51445</th>\n",
       "      <td>myspace.ge</td>\n",
       "      <td>10814</td>\n",
       "      <td>NaN</td>\n",
       "      <td>12.5</td>\n",
       "      <td>Georgia</td>\n",
       "    </tr>\n",
       "    <tr>\n",
       "      <th>40423</th>\n",
       "      <td>newposts.ge</td>\n",
       "      <td>1344</td>\n",
       "      <td>NaN</td>\n",
       "      <td>11.5</td>\n",
       "      <td>Georgia</td>\n",
       "    </tr>\n",
       "    <tr>\n",
       "      <th>45160</th>\n",
       "      <td>intermedia.ge</td>\n",
       "      <td>1150</td>\n",
       "      <td>NaN</td>\n",
       "      <td>11.0</td>\n",
       "      <td>Georgia</td>\n",
       "    </tr>\n",
       "  </tbody>\n",
       "</table>\n",
       "</div>"
      ],
      "text/plain": [
       "               Media  avails  values  cost  country\n",
       "51445     myspace.ge   10814     NaN  12.5  Georgia\n",
       "40423    newposts.ge    1344     NaN  11.5  Georgia\n",
       "45160  intermedia.ge    1150     NaN  11.0  Georgia"
      ]
     },
     "execution_count": 22,
     "metadata": {},
     "output_type": "execute_result"
    }
   ],
   "source": [
    "df['Georgia']"
   ]
  },
  {
   "cell_type": "code",
   "execution_count": 23,
   "metadata": {},
   "outputs": [
    {
     "ename": "NameError",
     "evalue": "name 'sns' is not defined",
     "output_type": "error",
     "traceback": [
      "\u001b[1;31m---------------------------------------------------------------------------\u001b[0m",
      "\u001b[1;31mNameError\u001b[0m                                 Traceback (most recent call last)",
      "\u001b[1;32m<ipython-input-23-10e7c063b2e5>\u001b[0m in \u001b[0;36m<module>\u001b[1;34m()\u001b[0m\n\u001b[1;32m----> 1\u001b[1;33m \u001b[0msns\u001b[0m\u001b[1;33m.\u001b[0m\u001b[0mdistplot\u001b[0m\u001b[1;33m(\u001b[0m\u001b[0mdata\u001b[0m\u001b[1;33m[\u001b[0m\u001b[1;34m'avails'\u001b[0m\u001b[1;33m]\u001b[0m\u001b[1;33m,\u001b[0m \u001b[0mbins\u001b[0m\u001b[1;33m=\u001b[0m\u001b[1;36m10\u001b[0m\u001b[1;33m)\u001b[0m\u001b[1;33m\u001b[0m\u001b[0m\n\u001b[0m",
      "\u001b[1;31mNameError\u001b[0m: name 'sns' is not defined"
     ]
    }
   ],
   "source": [
    "sns.distplot(data['avails'], bins=10)"
   ]
  },
  {
   "cell_type": "code",
   "execution_count": 18,
   "metadata": {},
   "outputs": [
    {
     "data": {
      "text/plain": [
       "<matplotlib.axes._subplots.AxesSubplot at 0x7f8ac62d9cc0>"
      ]
     },
     "execution_count": 18,
     "metadata": {},
     "output_type": "execute_result"
    },
    {
     "data": {
      "image/png": "[encoded data removed]",
      "text/plain": [
       "<Figure size 432x288 with 1 Axes>"
      ]
     },
     "metadata": {},
     "output_type": "display_data"
    }
   ],
   "source": [
    "data.avails.plot(kind='hist')"
   ]
  },
  {
   "cell_type": "code",
   "execution_count": 19,
   "metadata": {},
   "outputs": [
    {
     "data": {
      "text/plain": [
       "<matplotlib.axes._subplots.AxesSubplot at 0x7f8ac6240c18>"
      ]
     },
     "execution_count": 19,
     "metadata": {},
     "output_type": "execute_result"
    },
    {
     "data": {
      "image/png": "[encoded data removed]",
      "text/plain": [
       "<Figure size 432x288 with 1 Axes>"
      ]
     },
     "metadata": {},
     "output_type": "display_data"
    }
   ],
   "source": [
    "sns.regplot(x='avails', y='values', data=data)"
   ]
  },
  {
   "cell_type": "code",
   "execution_count": 20,
   "metadata": {},
   "outputs": [
    {
     "data": {
      "text/plain": [
       "<matplotlib.axes._subplots.AxesSubplot at 0x7f8ac6259e48>"
      ]
     },
     "execution_count": 20,
     "metadata": {},
     "output_type": "execute_result"
    },
    {
     "data": {
      "image/png": "[encoded data removed]",
      "text/plain": [
       "<Figure size 432x288 with 1 Axes>"
      ]
     },
     "metadata": {},
     "output_type": "display_data"
    }
   ],
   "source": [
    "sns.boxplot(x='avails', data=data)"
   ]
  },
  {
   "cell_type": "code",
   "execution_count": 21,
   "metadata": {},
   "outputs": [
    {
     "data": {
      "text/plain": [
       "Media\n",
       "hollywood.com            3821700\n",
       "honeywell.com            3727464\n",
       "cakecentral.com          3725827\n",
       "beardoholic.com          3716302\n",
       "kerrydalestreet.co.uk    3709838\n",
       "info.cz                  3709835\n",
       "woodlanddirect.com       3709625\n",
       "housewifehowtos.com      3709477\n",
       "beyondmenu.com           3708744\n",
       "gmatclub.com             3708744\n",
       "Name: avails, dtype: int64"
      ]
     },
     "execution_count": 21,
     "metadata": {},
     "output_type": "execute_result"
    }
   ],
   "source": [
    "data.groupby('Media')['avails'].sum().sort_values(ascending=False).head(10)"
   ]
  },
  {
   "cell_type": "code",
   "execution_count": 22,
   "metadata": {},
   "outputs": [
    {
     "data": {
      "text/html": [
       "<div>\n",
       "<style scoped>\n",
       "    .dataframe tbody tr th:only-of-type {\n",
       "        vertical-align: middle;\n",
       "    }\n",
       "\n",
       "    .dataframe tbody tr th {\n",
       "        vertical-align: top;\n",
       "    }\n",
       "\n",
       "    .dataframe thead th {\n",
       "        text-align: right;\n",
       "    }\n",
       "</style>\n",
       "<table border=\"1\" class=\"dataframe\">\n",
       "  <thead>\n",
       "    <tr style=\"text-align: right;\">\n",
       "      <th></th>\n",
       "      <th>Media</th>\n",
       "      <th>avails</th>\n",
       "    </tr>\n",
       "  </thead>\n",
       "  <tbody>\n",
       "    <tr>\n",
       "      <th>0</th>\n",
       "      <td>000webhostapp.com</td>\n",
       "      <td>2009</td>\n",
       "    </tr>\n",
       "    <tr>\n",
       "      <th>1</th>\n",
       "      <td>007james.com</td>\n",
       "      <td>2634</td>\n",
       "    </tr>\n",
       "    <tr>\n",
       "      <th>2</th>\n",
       "      <td>0123movies.com</td>\n",
       "      <td>17013</td>\n",
       "    </tr>\n",
       "    <tr>\n",
       "      <th>3</th>\n",
       "      <td>01net.com</td>\n",
       "      <td>9419</td>\n",
       "    </tr>\n",
       "    <tr>\n",
       "      <th>4</th>\n",
       "      <td>0800-horoscope.com</td>\n",
       "      <td>2805</td>\n",
       "    </tr>\n",
       "  </tbody>\n",
       "</table>\n",
       "</div>"
      ],
      "text/plain": [
       "                Media  avails\n",
       "0   000webhostapp.com    2009\n",
       "1        007james.com    2634\n",
       "2      0123movies.com   17013\n",
       "3           01net.com    9419\n",
       "4  0800-horoscope.com    2805"
      ]
     },
     "execution_count": 22,
     "metadata": {},
     "output_type": "execute_result"
    }
   ],
   "source": [
    "df_media = data.groupby(by='Media', as_index=False)['avails'].sum()\n",
    "df_media.head()"
   ]
  },
  {
   "cell_type": "code",
   "execution_count": 23,
   "metadata": {},
   "outputs": [
    {
     "name": "stderr",
     "output_type": "stream",
     "text": [
      "/home/eugene/anaconda3/lib/python3.6/site-packages/matplotlib/axes/_axes.py:6448: UserWarning: The 'normed' kwarg is deprecated, and has been replaced by the 'density' kwarg.\n",
      "  warnings.warn(\"The 'normed' kwarg is deprecated, and has been \"\n"
     ]
    },
    {
     "data": {
      "text/plain": [
       "<matplotlib.axes._subplots.AxesSubplot at 0x7f8ac6222898>"
      ]
     },
     "execution_count": 23,
     "metadata": {},
     "output_type": "execute_result"
    },
    {
     "data": {
      "image/png": "[encoded data removed]",
      "text/plain": [
       "<Figure size 432x288 with 1 Axes>"
      ]
     },
     "metadata": {},
     "output_type": "display_data"
    }
   ],
   "source": [
    "sns.distplot(df_media['avails'])"
   ]
  },
  {
   "cell_type": "code",
   "execution_count": 24,
   "metadata": {},
   "outputs": [
    {
     "data": {
      "text/html": [
       "<div>\n",
       "<style scoped>\n",
       "    .dataframe tbody tr th:only-of-type {\n",
       "        vertical-align: middle;\n",
       "    }\n",
       "\n",
       "    .dataframe tbody tr th {\n",
       "        vertical-align: top;\n",
       "    }\n",
       "\n",
       "    .dataframe thead th {\n",
       "        text-align: right;\n",
       "    }\n",
       "</style>\n",
       "<table border=\"1\" class=\"dataframe\">\n",
       "  <thead>\n",
       "    <tr style=\"text-align: right;\">\n",
       "      <th></th>\n",
       "      <th>country</th>\n",
       "      <th>avails</th>\n",
       "    </tr>\n",
       "  </thead>\n",
       "  <tbody>\n",
       "    <tr>\n",
       "      <th>0</th>\n",
       "      <td>Albania</td>\n",
       "      <td>31505</td>\n",
       "    </tr>\n",
       "    <tr>\n",
       "      <th>1</th>\n",
       "      <td>American Samoa</td>\n",
       "      <td>771</td>\n",
       "    </tr>\n",
       "    <tr>\n",
       "      <th>2</th>\n",
       "      <td>Antigua and Barbuda</td>\n",
       "      <td>34341</td>\n",
       "    </tr>\n",
       "    <tr>\n",
       "      <th>3</th>\n",
       "      <td>Argentina</td>\n",
       "      <td>661986</td>\n",
       "    </tr>\n",
       "    <tr>\n",
       "      <th>4</th>\n",
       "      <td>Armenia</td>\n",
       "      <td>56400</td>\n",
       "    </tr>\n",
       "  </tbody>\n",
       "</table>\n",
       "</div>"
      ],
      "text/plain": [
       "               country  avails\n",
       "0              Albania   31505\n",
       "1       American Samoa     771\n",
       "2  Antigua and Barbuda   34341\n",
       "3            Argentina  661986\n",
       "4              Armenia   56400"
      ]
     },
     "execution_count": 24,
     "metadata": {},
     "output_type": "execute_result"
    }
   ],
   "source": [
    "df_country = data.groupby(by='country', as_index=False)['avails'].sum()\n",
    "df_country.head()"
   ]
  },
  {
   "cell_type": "code",
   "execution_count": 25,
   "metadata": {},
   "outputs": [
    {
     "data": {
      "text/html": [
       "<div>\n",
       "<style scoped>\n",
       "    .dataframe tbody tr th:only-of-type {\n",
       "        vertical-align: middle;\n",
       "    }\n",
       "\n",
       "    .dataframe tbody tr th {\n",
       "        vertical-align: top;\n",
       "    }\n",
       "\n",
       "    .dataframe thead th {\n",
       "        text-align: right;\n",
       "    }\n",
       "</style>\n",
       "<table border=\"1\" class=\"dataframe\">\n",
       "  <thead>\n",
       "    <tr style=\"text-align: right;\">\n",
       "      <th></th>\n",
       "      <th>country</th>\n",
       "      <th>avails</th>\n",
       "    </tr>\n",
       "  </thead>\n",
       "  <tbody>\n",
       "    <tr>\n",
       "      <th>131</th>\n",
       "      <td>Worldwide</td>\n",
       "      <td>420252337</td>\n",
       "    </tr>\n",
       "    <tr>\n",
       "      <th>125</th>\n",
       "      <td>United Kingdom</td>\n",
       "      <td>8872076</td>\n",
       "    </tr>\n",
       "    <tr>\n",
       "      <th>29</th>\n",
       "      <td>Czech Republic</td>\n",
       "      <td>3818475</td>\n",
       "    </tr>\n",
       "    <tr>\n",
       "      <th>121</th>\n",
       "      <td>Tuvalu</td>\n",
       "      <td>3698193</td>\n",
       "    </tr>\n",
       "    <tr>\n",
       "      <th>13</th>\n",
       "      <td>Brazil</td>\n",
       "      <td>3623951</td>\n",
       "    </tr>\n",
       "    <tr>\n",
       "      <th>96</th>\n",
       "      <td>Russian Federation</td>\n",
       "      <td>2783049</td>\n",
       "    </tr>\n",
       "    <tr>\n",
       "      <th>56</th>\n",
       "      <td>Japan</td>\n",
       "      <td>2365108</td>\n",
       "    </tr>\n",
       "    <tr>\n",
       "      <th>38</th>\n",
       "      <td>France</td>\n",
       "      <td>2024576</td>\n",
       "    </tr>\n",
       "    <tr>\n",
       "      <th>24</th>\n",
       "      <td>Colombia</td>\n",
       "      <td>1881843</td>\n",
       "    </tr>\n",
       "    <tr>\n",
       "      <th>126</th>\n",
       "      <td>United States</td>\n",
       "      <td>1785931</td>\n",
       "    </tr>\n",
       "    <tr>\n",
       "      <th>41</th>\n",
       "      <td>Germany</td>\n",
       "      <td>1785663</td>\n",
       "    </tr>\n",
       "    <tr>\n",
       "      <th>14</th>\n",
       "      <td>British Indian Ocean Territory</td>\n",
       "      <td>1640642</td>\n",
       "    </tr>\n",
       "    <tr>\n",
       "      <th>123</th>\n",
       "      <td>Ukraine</td>\n",
       "      <td>1622752</td>\n",
       "    </tr>\n",
       "    <tr>\n",
       "      <th>91</th>\n",
       "      <td>Poland</td>\n",
       "      <td>1606333</td>\n",
       "    </tr>\n",
       "    <tr>\n",
       "      <th>73</th>\n",
       "      <td>Mexico</td>\n",
       "      <td>1445570</td>\n",
       "    </tr>\n",
       "    <tr>\n",
       "      <th>18</th>\n",
       "      <td>Canada</td>\n",
       "      <td>1424473</td>\n",
       "    </tr>\n",
       "    <tr>\n",
       "      <th>55</th>\n",
       "      <td>Italy</td>\n",
       "      <td>1365825</td>\n",
       "    </tr>\n",
       "    <tr>\n",
       "      <th>107</th>\n",
       "      <td>Spain</td>\n",
       "      <td>1284643</td>\n",
       "    </tr>\n",
       "    <tr>\n",
       "      <th>5</th>\n",
       "      <td>Australia</td>\n",
       "      <td>1273753</td>\n",
       "    </tr>\n",
       "    <tr>\n",
       "      <th>90</th>\n",
       "      <td>Philippines</td>\n",
       "      <td>1252700</td>\n",
       "    </tr>\n",
       "    <tr>\n",
       "      <th>43</th>\n",
       "      <td>Greece</td>\n",
       "      <td>1017023</td>\n",
       "    </tr>\n",
       "    <tr>\n",
       "      <th>50</th>\n",
       "      <td>India</td>\n",
       "      <td>835851</td>\n",
       "    </tr>\n",
       "    <tr>\n",
       "      <th>117</th>\n",
       "      <td>Tonga</td>\n",
       "      <td>781295</td>\n",
       "    </tr>\n",
       "    <tr>\n",
       "      <th>95</th>\n",
       "      <td>Romania</td>\n",
       "      <td>711558</td>\n",
       "    </tr>\n",
       "    <tr>\n",
       "      <th>85</th>\n",
       "      <td>Pakistan</td>\n",
       "      <td>671222</td>\n",
       "    </tr>\n",
       "    <tr>\n",
       "      <th>3</th>\n",
       "      <td>Argentina</td>\n",
       "      <td>661986</td>\n",
       "    </tr>\n",
       "    <tr>\n",
       "      <th>87</th>\n",
       "      <td>Panama</td>\n",
       "      <td>526572</td>\n",
       "    </tr>\n",
       "    <tr>\n",
       "      <th>61</th>\n",
       "      <td>Laos</td>\n",
       "      <td>512816</td>\n",
       "    </tr>\n",
       "    <tr>\n",
       "      <th>32</th>\n",
       "      <td>Dominican Republic</td>\n",
       "      <td>413783</td>\n",
       "    </tr>\n",
       "    <tr>\n",
       "      <th>82</th>\n",
       "      <td>Nigeria</td>\n",
       "      <td>362175</td>\n",
       "    </tr>\n",
       "    <tr>\n",
       "      <th>...</th>\n",
       "      <td>...</td>\n",
       "      <td>...</td>\n",
       "    </tr>\n",
       "    <tr>\n",
       "      <th>8</th>\n",
       "      <td>Belarus</td>\n",
       "      <td>13025</td>\n",
       "    </tr>\n",
       "    <tr>\n",
       "      <th>16</th>\n",
       "      <td>Cambodia</td>\n",
       "      <td>11631</td>\n",
       "    </tr>\n",
       "    <tr>\n",
       "      <th>7</th>\n",
       "      <td>Bangladesh</td>\n",
       "      <td>10356</td>\n",
       "    </tr>\n",
       "    <tr>\n",
       "      <th>63</th>\n",
       "      <td>Lebanon</td>\n",
       "      <td>10069</td>\n",
       "    </tr>\n",
       "    <tr>\n",
       "      <th>51</th>\n",
       "      <td>Indonesia</td>\n",
       "      <td>8978</td>\n",
       "    </tr>\n",
       "    <tr>\n",
       "      <th>76</th>\n",
       "      <td>Mongolia</td>\n",
       "      <td>8962</td>\n",
       "    </tr>\n",
       "    <tr>\n",
       "      <th>19</th>\n",
       "      <td>Central African Republic</td>\n",
       "      <td>8654</td>\n",
       "    </tr>\n",
       "    <tr>\n",
       "      <th>45</th>\n",
       "      <td>Haiti</td>\n",
       "      <td>7472</td>\n",
       "    </tr>\n",
       "    <tr>\n",
       "      <th>94</th>\n",
       "      <td>Reunion</td>\n",
       "      <td>7054</td>\n",
       "    </tr>\n",
       "    <tr>\n",
       "      <th>22</th>\n",
       "      <td>Christmas Island</td>\n",
       "      <td>6942</td>\n",
       "    </tr>\n",
       "    <tr>\n",
       "      <th>58</th>\n",
       "      <td>Kazakhstan</td>\n",
       "      <td>6562</td>\n",
       "    </tr>\n",
       "    <tr>\n",
       "      <th>10</th>\n",
       "      <td>Belize</td>\n",
       "      <td>5395</td>\n",
       "    </tr>\n",
       "    <tr>\n",
       "      <th>124</th>\n",
       "      <td>United Arab Emirates</td>\n",
       "      <td>5338</td>\n",
       "    </tr>\n",
       "    <tr>\n",
       "      <th>42</th>\n",
       "      <td>Ghana</td>\n",
       "      <td>4687</td>\n",
       "    </tr>\n",
       "    <tr>\n",
       "      <th>25</th>\n",
       "      <td>Costa Rica</td>\n",
       "      <td>4240</td>\n",
       "    </tr>\n",
       "    <tr>\n",
       "      <th>28</th>\n",
       "      <td>Cyprus</td>\n",
       "      <td>3725</td>\n",
       "    </tr>\n",
       "    <tr>\n",
       "      <th>31</th>\n",
       "      <td>Djibouti</td>\n",
       "      <td>3406</td>\n",
       "    </tr>\n",
       "    <tr>\n",
       "      <th>114</th>\n",
       "      <td>Tanzania</td>\n",
       "      <td>3379</td>\n",
       "    </tr>\n",
       "    <tr>\n",
       "      <th>100</th>\n",
       "      <td>Sao Tome and Principe</td>\n",
       "      <td>3374</td>\n",
       "    </tr>\n",
       "    <tr>\n",
       "      <th>88</th>\n",
       "      <td>Paraguay</td>\n",
       "      <td>3006</td>\n",
       "    </tr>\n",
       "    <tr>\n",
       "      <th>119</th>\n",
       "      <td>Tunisia</td>\n",
       "      <td>2424</td>\n",
       "    </tr>\n",
       "    <tr>\n",
       "      <th>102</th>\n",
       "      <td>Senegal</td>\n",
       "      <td>2362</td>\n",
       "    </tr>\n",
       "    <tr>\n",
       "      <th>130</th>\n",
       "      <td>Virgin Islands (British)</td>\n",
       "      <td>2341</td>\n",
       "    </tr>\n",
       "    <tr>\n",
       "      <th>106</th>\n",
       "      <td>Slovenia</td>\n",
       "      <td>1927</td>\n",
       "    </tr>\n",
       "    <tr>\n",
       "      <th>110</th>\n",
       "      <td>Suriname</td>\n",
       "      <td>1439</td>\n",
       "    </tr>\n",
       "    <tr>\n",
       "      <th>97</th>\n",
       "      <td>Rwanda</td>\n",
       "      <td>1403</td>\n",
       "    </tr>\n",
       "    <tr>\n",
       "      <th>128</th>\n",
       "      <td>Vatican City State (Holy See)</td>\n",
       "      <td>885</td>\n",
       "    </tr>\n",
       "    <tr>\n",
       "      <th>1</th>\n",
       "      <td>American Samoa</td>\n",
       "      <td>771</td>\n",
       "    </tr>\n",
       "    <tr>\n",
       "      <th>67</th>\n",
       "      <td>Luxembourg</td>\n",
       "      <td>756</td>\n",
       "    </tr>\n",
       "    <tr>\n",
       "      <th>27</th>\n",
       "      <td>Cuba</td>\n",
       "      <td>726</td>\n",
       "    </tr>\n",
       "  </tbody>\n",
       "</table>\n",
       "<p>134 rows × 2 columns</p>\n",
       "</div>"
      ],
      "text/plain": [
       "                            country     avails\n",
       "131                       Worldwide  420252337\n",
       "125                  United Kingdom    8872076\n",
       "29                   Czech Republic    3818475\n",
       "121                          Tuvalu    3698193\n",
       "13                           Brazil    3623951\n",
       "96               Russian Federation    2783049\n",
       "56                            Japan    2365108\n",
       "38                           France    2024576\n",
       "24                         Colombia    1881843\n",
       "126                   United States    1785931\n",
       "41                          Germany    1785663\n",
       "14   British Indian Ocean Territory    1640642\n",
       "123                         Ukraine    1622752\n",
       "91                           Poland    1606333\n",
       "73                           Mexico    1445570\n",
       "18                           Canada    1424473\n",
       "55                            Italy    1365825\n",
       "107                           Spain    1284643\n",
       "5                         Australia    1273753\n",
       "90                      Philippines    1252700\n",
       "43                           Greece    1017023\n",
       "50                            India     835851\n",
       "117                           Tonga     781295\n",
       "95                          Romania     711558\n",
       "85                         Pakistan     671222\n",
       "3                         Argentina     661986\n",
       "87                           Panama     526572\n",
       "61                             Laos     512816\n",
       "32               Dominican Republic     413783\n",
       "82                          Nigeria     362175\n",
       "..                              ...        ...\n",
       "8                           Belarus      13025\n",
       "16                         Cambodia      11631\n",
       "7                        Bangladesh      10356\n",
       "63                          Lebanon      10069\n",
       "51                        Indonesia       8978\n",
       "76                         Mongolia       8962\n",
       "19         Central African Republic       8654\n",
       "45                            Haiti       7472\n",
       "94                          Reunion       7054\n",
       "22                 Christmas Island       6942\n",
       "58                       Kazakhstan       6562\n",
       "10                           Belize       5395\n",
       "124            United Arab Emirates       5338\n",
       "42                            Ghana       4687\n",
       "25                       Costa Rica       4240\n",
       "28                           Cyprus       3725\n",
       "31                         Djibouti       3406\n",
       "114                        Tanzania       3379\n",
       "100           Sao Tome and Principe       3374\n",
       "88                         Paraguay       3006\n",
       "119                         Tunisia       2424\n",
       "102                         Senegal       2362\n",
       "130        Virgin Islands (British)       2341\n",
       "106                        Slovenia       1927\n",
       "110                        Suriname       1439\n",
       "97                           Rwanda       1403\n",
       "128   Vatican City State (Holy See)        885\n",
       "1                    American Samoa        771\n",
       "67                       Luxembourg        756\n",
       "27                             Cuba        726\n",
       "\n",
       "[134 rows x 2 columns]"
      ]
     },
     "execution_count": 25,
     "metadata": {},
     "output_type": "execute_result"
    }
   ],
   "source": [
    "df_country.sort_values(by='avails', ascending=False)"
   ]
  },
  {
   "cell_type": "code",
   "execution_count": 26,
   "metadata": {},
   "outputs": [
    {
     "name": "stderr",
     "output_type": "stream",
     "text": [
      "/home/eugene/anaconda3/lib/python3.6/site-packages/matplotlib/axes/_axes.py:6448: UserWarning: The 'normed' kwarg is deprecated, and has been replaced by the 'density' kwarg.\n",
      "  warnings.warn(\"The 'normed' kwarg is deprecated, and has been \"\n"
     ]
    },
    {
     "data": {
      "text/plain": [
       "<matplotlib.axes._subplots.AxesSubplot at 0x7f8ac60acf60>"
      ]
     },
     "execution_count": 26,
     "metadata": {},
     "output_type": "execute_result"
    },
    {
     "data": {
      "image/png": "[encoded data removed]",
      "text/plain": [
       "<Figure size 432x288 with 1 Axes>"
      ]
     },
     "metadata": {},
     "output_type": "display_data"
    }
   ],
   "source": [
    "sns.distplot(df_country['avails'], bins=20)"
   ]
  },
  {
   "cell_type": "code",
   "execution_count": 27,
   "metadata": {},
   "outputs": [
    {
     "data": {
      "text/html": [
       "<div>\n",
       "<style scoped>\n",
       "    .dataframe tbody tr th:only-of-type {\n",
       "        vertical-align: middle;\n",
       "    }\n",
       "\n",
       "    .dataframe tbody tr th {\n",
       "        vertical-align: top;\n",
       "    }\n",
       "\n",
       "    .dataframe thead th {\n",
       "        text-align: right;\n",
       "    }\n",
       "</style>\n",
       "<table border=\"1\" class=\"dataframe\">\n",
       "  <thead>\n",
       "    <tr style=\"text-align: right;\">\n",
       "      <th></th>\n",
       "      <th>Media</th>\n",
       "      <th>avails</th>\n",
       "    </tr>\n",
       "  </thead>\n",
       "  <tbody>\n",
       "    <tr>\n",
       "      <th>11914</th>\n",
       "      <td>hollywood.com</td>\n",
       "      <td>3821700</td>\n",
       "    </tr>\n",
       "    <tr>\n",
       "      <th>12008</th>\n",
       "      <td>honeywell.com</td>\n",
       "      <td>3727464</td>\n",
       "    </tr>\n",
       "    <tr>\n",
       "      <th>3885</th>\n",
       "      <td>cakecentral.com</td>\n",
       "      <td>3725827</td>\n",
       "    </tr>\n",
       "    <tr>\n",
       "      <th>2604</th>\n",
       "      <td>beardoholic.com</td>\n",
       "      <td>3716302</td>\n",
       "    </tr>\n",
       "    <tr>\n",
       "      <th>13975</th>\n",
       "      <td>kerrydalestreet.co.uk</td>\n",
       "      <td>3709838</td>\n",
       "    </tr>\n",
       "  </tbody>\n",
       "</table>\n",
       "</div>"
      ],
      "text/plain": [
       "                       Media   avails\n",
       "11914          hollywood.com  3821700\n",
       "12008          honeywell.com  3727464\n",
       "3885         cakecentral.com  3725827\n",
       "2604         beardoholic.com  3716302\n",
       "13975  kerrydalestreet.co.uk  3709838"
      ]
     },
     "execution_count": 27,
     "metadata": {},
     "output_type": "execute_result"
    }
   ],
   "source": [
    "df_media.sort_values(by='avails', ascending=False).head(5)"
   ]
  },
  {
   "cell_type": "markdown",
   "metadata": {},
   "source": [
    "**Используя ключевые слова для каждой категории выявить по названию по 10 доменов для соответствующих категорий (Health & Fitness, Sports, Arts & Entertainment, Travel, Automotive, Style & Fashion).**"
   ]
  },
  {
   "cell_type": "code",
   "execution_count": 28,
   "metadata": {},
   "outputs": [
    {
     "data": {
      "text/html": [
       "<div>\n",
       "<style scoped>\n",
       "    .dataframe tbody tr th:only-of-type {\n",
       "        vertical-align: middle;\n",
       "    }\n",
       "\n",
       "    .dataframe tbody tr th {\n",
       "        vertical-align: top;\n",
       "    }\n",
       "\n",
       "    .dataframe thead th {\n",
       "        text-align: right;\n",
       "    }\n",
       "</style>\n",
       "<table border=\"1\" class=\"dataframe\">\n",
       "  <thead>\n",
       "    <tr style=\"text-align: right;\">\n",
       "      <th></th>\n",
       "      <th>Media</th>\n",
       "      <th>avails</th>\n",
       "      <th>values</th>\n",
       "      <th>country</th>\n",
       "      <th>category</th>\n",
       "    </tr>\n",
       "  </thead>\n",
       "  <tbody>\n",
       "    <tr>\n",
       "      <th>0</th>\n",
       "      <td>yahoo.com</td>\n",
       "      <td>4603</td>\n",
       "      <td>6.5</td>\n",
       "      <td>Worldwide</td>\n",
       "      <td></td>\n",
       "    </tr>\n",
       "    <tr>\n",
       "      <th>1</th>\n",
       "      <td>yahoo.com</td>\n",
       "      <td>881</td>\n",
       "      <td>12.0</td>\n",
       "      <td>Worldwide</td>\n",
       "      <td></td>\n",
       "    </tr>\n",
       "    <tr>\n",
       "      <th>2</th>\n",
       "      <td>cmt.com</td>\n",
       "      <td>862</td>\n",
       "      <td>10.0</td>\n",
       "      <td>Worldwide</td>\n",
       "      <td></td>\n",
       "    </tr>\n",
       "    <tr>\n",
       "      <th>3</th>\n",
       "      <td>worldofsolitaire.com</td>\n",
       "      <td>858</td>\n",
       "      <td>11.5</td>\n",
       "      <td>Worldwide</td>\n",
       "      <td></td>\n",
       "    </tr>\n",
       "    <tr>\n",
       "      <th>4</th>\n",
       "      <td>copykat.com</td>\n",
       "      <td>1621</td>\n",
       "      <td>7.0</td>\n",
       "      <td>Worldwide</td>\n",
       "      <td></td>\n",
       "    </tr>\n",
       "  </tbody>\n",
       "</table>\n",
       "</div>"
      ],
      "text/plain": [
       "                  Media  avails  values    country category\n",
       "0             yahoo.com    4603     6.5  Worldwide         \n",
       "1             yahoo.com     881    12.0  Worldwide         \n",
       "2               cmt.com     862    10.0  Worldwide         \n",
       "3  worldofsolitaire.com     858    11.5  Worldwide         \n",
       "4           copykat.com    1621     7.0  Worldwide         "
      ]
     },
     "execution_count": 28,
     "metadata": {},
     "output_type": "execute_result"
    }
   ],
   "source": [
    "data['category'] = \"\"\n",
    "data.head()"
   ]
  },
  {
   "cell_type": "code",
   "execution_count": 29,
   "metadata": {},
   "outputs": [],
   "source": [
    "for i in data.index:\n",
    "    name = data.loc[i, 'Media'].split('.')[0]\n",
    "    if 'health' in name or 'fitness' in name:\n",
    "        data.at[i, 'category'] = 'Health & Fitness'\n",
    "    elif 'sports' in name:\n",
    "        data.at[i, 'category'] = 'Sports'\n",
    "    elif 'arts' in name or 'entertainment' in name:\n",
    "        data.at[i, 'category'] = 'Arts & Entertainment'\n",
    "    elif 'travel' in name:\n",
    "        data.at[i, 'category'] = 'Travel'\n",
    "    elif 'automotive' in name:\n",
    "        data.at[i, 'category'] = 'Automotive'\n",
    "    elif 'style' in name or 'fashion' in name:\n",
    "        data.at[i, 'category'] = 'Style & Fashion'"
   ]
  },
  {
   "cell_type": "code",
   "execution_count": 30,
   "metadata": {},
   "outputs": [
    {
     "name": "stdout",
     "output_type": "stream",
     "text": [
      "<class 'pandas.core.frame.DataFrame'>\n",
      "RangeIndex: 58159 entries, 0 to 58158\n",
      "Data columns (total 5 columns):\n",
      "Media       58159 non-null object\n",
      "avails      58159 non-null int64\n",
      "values      58159 non-null float64\n",
      "country     58159 non-null object\n",
      "category    58159 non-null object\n",
      "dtypes: float64(1), int64(1), object(3)\n",
      "memory usage: 2.2+ MB\n"
     ]
    }
   ],
   "source": [
    "data.info()"
   ]
  },
  {
   "cell_type": "code",
   "execution_count": 31,
   "metadata": {},
   "outputs": [
    {
     "data": {
      "text/plain": [
       "array(['', 'Health & Fitness', 'Sports', 'Arts & Entertainment',\n",
       "       'Style & Fashion', 'Travel', 'Automotive'], dtype=object)"
      ]
     },
     "execution_count": 31,
     "metadata": {},
     "output_type": "execute_result"
    }
   ],
   "source": [
    "data['category'].unique()"
   ]
  },
  {
   "cell_type": "code",
   "execution_count": 32,
   "metadata": {},
   "outputs": [
    {
     "data": {
      "text/plain": [
       "                        56902\n",
       "Sports                    404\n",
       "Health & Fitness          403\n",
       "Style & Fashion           193\n",
       "Arts & Entertainment      151\n",
       "Travel                    105\n",
       "Automotive                  1\n",
       "Name: category, dtype: int64"
      ]
     },
     "execution_count": 32,
     "metadata": {},
     "output_type": "execute_result"
    }
   ],
   "source": [
    "data['category'].value_counts()"
   ]
  },
  {
   "cell_type": "markdown",
   "metadata": {},
   "source": [
    "**Посчитать средневзвешенную стоимость по каждой категории.**"
   ]
  },
  {
   "cell_type": "code",
   "execution_count": 33,
   "metadata": {},
   "outputs": [],
   "source": [
    "data_cat = data[data.category != \"\"]"
   ]
  },
  {
   "cell_type": "code",
   "execution_count": 48,
   "metadata": {},
   "outputs": [
    {
     "name": "stderr",
     "output_type": "stream",
     "text": [
      "/home/eugene/anaconda3/lib/python3.6/site-packages/ipykernel_launcher.py:1: SettingWithCopyWarning: \n",
      "A value is trying to be set on a copy of a slice from a DataFrame.\n",
      "Try using .loc[row_indexer,col_indexer] = value instead\n",
      "\n",
      "See the caveats in the documentation: http://pandas.pydata.org/pandas-docs/stable/indexing.html#indexing-view-versus-copy\n",
      "  \"\"\"Entry point for launching an IPython kernel.\n"
     ]
    }
   ],
   "source": [
    "data_cat['weights'] = \"\"\n",
    "wt = data_cat['values'].value_counts(normalize=True).to_dict()\n",
    "for i in data_cat.index:\n",
    "    data_cat.at[i, 'weights'] = wt[data_cat.loc[i, 'values']]"
   ]
  },
  {
   "cell_type": "code",
   "execution_count": 49,
   "metadata": {},
   "outputs": [
    {
     "data": {
      "text/html": [
       "<div>\n",
       "<style scoped>\n",
       "    .dataframe tbody tr th:only-of-type {\n",
       "        vertical-align: middle;\n",
       "    }\n",
       "\n",
       "    .dataframe tbody tr th {\n",
       "        vertical-align: top;\n",
       "    }\n",
       "\n",
       "    .dataframe thead th {\n",
       "        text-align: right;\n",
       "    }\n",
       "</style>\n",
       "<table border=\"1\" class=\"dataframe\">\n",
       "  <thead>\n",
       "    <tr style=\"text-align: right;\">\n",
       "      <th></th>\n",
       "      <th>Media</th>\n",
       "      <th>avails</th>\n",
       "      <th>values</th>\n",
       "      <th>country</th>\n",
       "      <th>category</th>\n",
       "      <th>weights</th>\n",
       "    </tr>\n",
       "  </thead>\n",
       "  <tbody>\n",
       "    <tr>\n",
       "      <th>53</th>\n",
       "      <td>healthcentral.com</td>\n",
       "      <td>874</td>\n",
       "      <td>12.5</td>\n",
       "      <td>Worldwide</td>\n",
       "      <td>Health &amp; Fitness</td>\n",
       "      <td>0.0517104</td>\n",
       "    </tr>\n",
       "    <tr>\n",
       "      <th>57</th>\n",
       "      <td>nbcsports.com</td>\n",
       "      <td>1968</td>\n",
       "      <td>13.0</td>\n",
       "      <td>Worldwide</td>\n",
       "      <td>Sports</td>\n",
       "      <td>0.0604614</td>\n",
       "    </tr>\n",
       "    <tr>\n",
       "      <th>115</th>\n",
       "      <td>stockcharts.com</td>\n",
       "      <td>1431</td>\n",
       "      <td>8.5</td>\n",
       "      <td>Worldwide</td>\n",
       "      <td>Arts &amp; Entertainment</td>\n",
       "      <td>0.0652347</td>\n",
       "    </tr>\n",
       "    <tr>\n",
       "      <th>119</th>\n",
       "      <td>totalprosports.com</td>\n",
       "      <td>1340</td>\n",
       "      <td>9.0</td>\n",
       "      <td>Worldwide</td>\n",
       "      <td>Sports</td>\n",
       "      <td>0.0588703</td>\n",
       "    </tr>\n",
       "    <tr>\n",
       "      <th>120</th>\n",
       "      <td>entertainmentlove.com</td>\n",
       "      <td>31553</td>\n",
       "      <td>11.5</td>\n",
       "      <td>Worldwide</td>\n",
       "      <td>Arts &amp; Entertainment</td>\n",
       "      <td>0.0684169</td>\n",
       "    </tr>\n",
       "  </tbody>\n",
       "</table>\n",
       "</div>"
      ],
      "text/plain": [
       "                     Media  avails  values    country              category  \\\n",
       "53       healthcentral.com     874    12.5  Worldwide      Health & Fitness   \n",
       "57           nbcsports.com    1968    13.0  Worldwide                Sports   \n",
       "115        stockcharts.com    1431     8.5  Worldwide  Arts & Entertainment   \n",
       "119     totalprosports.com    1340     9.0  Worldwide                Sports   \n",
       "120  entertainmentlove.com   31553    11.5  Worldwide  Arts & Entertainment   \n",
       "\n",
       "       weights  \n",
       "53   0.0517104  \n",
       "57   0.0604614  \n",
       "115  0.0652347  \n",
       "119  0.0588703  \n",
       "120  0.0684169  "
      ]
     },
     "execution_count": 49,
     "metadata": {},
     "output_type": "execute_result"
    }
   ],
   "source": [
    "data_cat.head()"
   ]
  },
  {
   "cell_type": "code",
   "execution_count": 55,
   "metadata": {},
   "outputs": [
    {
     "data": {
      "text/html": [
       "<div>\n",
       "<style scoped>\n",
       "    .dataframe tbody tr th:only-of-type {\n",
       "        vertical-align: middle;\n",
       "    }\n",
       "\n",
       "    .dataframe tbody tr th {\n",
       "        vertical-align: top;\n",
       "    }\n",
       "\n",
       "    .dataframe thead th {\n",
       "        text-align: right;\n",
       "    }\n",
       "</style>\n",
       "<table border=\"1\" class=\"dataframe\">\n",
       "  <thead>\n",
       "    <tr style=\"text-align: right;\">\n",
       "      <th></th>\n",
       "      <th>category</th>\n",
       "      <th>values</th>\n",
       "    </tr>\n",
       "  </thead>\n",
       "  <tbody>\n",
       "    <tr>\n",
       "      <th>0</th>\n",
       "      <td>Arts &amp; Entertainment</td>\n",
       "      <td>9.556291</td>\n",
       "    </tr>\n",
       "    <tr>\n",
       "      <th>1</th>\n",
       "      <td>Automotive</td>\n",
       "      <td>10.500000</td>\n",
       "    </tr>\n",
       "    <tr>\n",
       "      <th>2</th>\n",
       "      <td>Health &amp; Fitness</td>\n",
       "      <td>9.504963</td>\n",
       "    </tr>\n",
       "    <tr>\n",
       "      <th>3</th>\n",
       "      <td>Sports</td>\n",
       "      <td>9.384901</td>\n",
       "    </tr>\n",
       "    <tr>\n",
       "      <th>4</th>\n",
       "      <td>Style &amp; Fashion</td>\n",
       "      <td>9.323834</td>\n",
       "    </tr>\n",
       "    <tr>\n",
       "      <th>5</th>\n",
       "      <td>Travel</td>\n",
       "      <td>9.380952</td>\n",
       "    </tr>\n",
       "  </tbody>\n",
       "</table>\n",
       "</div>"
      ],
      "text/plain": [
       "               category     values\n",
       "0  Arts & Entertainment   9.556291\n",
       "1            Automotive  10.500000\n",
       "2      Health & Fitness   9.504963\n",
       "3                Sports   9.384901\n",
       "4       Style & Fashion   9.323834\n",
       "5                Travel   9.380952"
      ]
     },
     "execution_count": 55,
     "metadata": {},
     "output_type": "execute_result"
    }
   ],
   "source": [
    "data_cat.groupby(by='category', as_index=False)['values'].mean()"
   ]
  },
  {
   "cell_type": "markdown",
   "metadata": {},
   "source": [
    "**Построить инфографику по полученным данным.**"
   ]
  },
  {
   "cell_type": "code",
   "execution_count": 42,
   "metadata": {},
   "outputs": [
    {
     "data": {
      "text/plain": [
       "<matplotlib.axes._subplots.AxesSubplot at 0x7f8abbb0b860>"
      ]
     },
     "execution_count": 42,
     "metadata": {},
     "output_type": "execute_result"
    },
    {
     "data": {
      "image/png": "[encoded data removed]",
      "text/plain": [
       "<Figure size 432x288 with 1 Axes>"
      ]
     },
     "metadata": {},
     "output_type": "display_data"
    }
   ],
   "source": [
    "data_cat.groupby(by='category', as_index=False)['values'].mean().plot(y='values', kind='pie')"
   ]
  },
  {
   "cell_type": "code",
   "execution_count": null,
   "metadata": {},
   "outputs": [],
   "source": []
  }
 ],
 "metadata": {
  "kernelspec": {
   "display_name": "Python [default]",
   "language": "python",
   "name": "python3"
  },
  "language_info": {
   "codemirror_mode": {
    "name": "ipython",
    "version": 3
   },
   "file_extension": ".py",
   "mimetype": "text/x-python",
   "name": "python",
   "nbconvert_exporter": "python",
   "pygments_lexer": "ipython3",
   "version": "3.5.5"
  }
 },
 "nbformat": 4,
 "nbformat_minor": 2
}
